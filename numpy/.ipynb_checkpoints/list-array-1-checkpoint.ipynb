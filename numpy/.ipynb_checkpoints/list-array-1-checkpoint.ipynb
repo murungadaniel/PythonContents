{
 "cells": [
  {
   "cell_type": "code",
   "execution_count": null,
   "id": "0432aa76-e598-4f1a-bcce-b5b95b0cdae6",
   "metadata": {},
   "outputs": [],
   "source": [
    "from time import time\n",
    "\n",
    "start = time()\n",
    "a = [i for i in range(100_000_000)]\n",
    "b = [i for i in range(100_000_000)]\n",
    "c = []\n",
    "for i in range(len(a)):\n",
    "    c.append(a[i]+b[i])\n",
    "print(\"Time Taken\",time() - start)"
   ]
  },
  {
   "cell_type": "code",
   "execution_count": 2,
   "id": "b6c48c6d-8a9b-49be-9860-69f66c7e2c47",
   "metadata": {},
   "outputs": [
    {
     "name": "stdout",
     "output_type": "stream",
     "text": [
      "Time Taken 1.6798200607299805\n"
     ]
    }
   ],
   "source": [
    "import numpy as np\n",
    "from time import time\n",
    "\n",
    "start = time()\n",
    "a = np.arange(100_000_000)\n",
    "b = np.arange(100_000_000,200_000_000)\n",
    "c = b + a\n",
    "print(\"Time Taken\",time() - start)"
   ]
  },
  {
   "cell_type": "code",
   "execution_count": 3,
   "id": "3bf95862-55d1-4776-b0c3-c148b9bbe39b",
   "metadata": {},
   "outputs": [
    {
     "data": {
      "text/plain": [
       "array([       0,        1,        2, ..., 99999997, 99999998, 99999999])"
      ]
     },
     "execution_count": 3,
     "metadata": {},
     "output_type": "execute_result"
    }
   ],
   "source": [
    "a"
   ]
  },
  {
   "cell_type": "code",
   "execution_count": null,
   "id": "2276d36d-c58c-4ffd-9b7d-87de83a8ad18",
   "metadata": {},
   "outputs": [],
   "source": []
  }
 ],
 "metadata": {
  "kernelspec": {
   "display_name": "Python 3 (ipykernel)",
   "language": "python",
   "name": "python3"
  },
  "language_info": {
   "codemirror_mode": {
    "name": "ipython",
    "version": 3
   },
   "file_extension": ".py",
   "mimetype": "text/x-python",
   "name": "python",
   "nbconvert_exporter": "python",
   "pygments_lexer": "ipython3",
   "version": "3.12.3"
  }
 },
 "nbformat": 4,
 "nbformat_minor": 5
}
