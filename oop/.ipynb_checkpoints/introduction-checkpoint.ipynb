{
 "cells": [
  {
   "cell_type": "code",
   "execution_count": 20,
   "id": "6a7e990d-5821-4888-8516-2f9b207f439d",
   "metadata": {},
   "outputs": [],
   "source": [
    "class Item:\n",
    "    def calculate_total_price(self,x,y):\n",
    "        return x*y\n"
   ]
  },
  {
   "cell_type": "code",
   "execution_count": 25,
   "id": "d10f60a2-3f16-4912-b63e-2e82cae74595",
   "metadata": {},
   "outputs": [],
   "source": [
    "item1 = Item()\n",
    "item1.name = \"Phone\"\n",
    "item1.price = 100\n",
    "item1.quantity = 5"
   ]
  },
  {
   "cell_type": "code",
   "execution_count": 26,
   "id": "98f0841c-aaf3-4a8b-a269-6c178ef93acf",
   "metadata": {},
   "outputs": [
    {
     "name": "stdout",
     "output_type": "stream",
     "text": [
      "500\n"
     ]
    }
   ],
   "source": [
    "print(item1.calculate_total_price(item1.price,item1.quantity))"
   ]
  },
  {
   "cell_type": "code",
   "execution_count": 6,
   "id": "3ffa2651-dba7-49b2-a3ed-fbf0c92dc352",
   "metadata": {},
   "outputs": [
    {
     "name": "stdout",
     "output_type": "stream",
     "text": [
      "<class '__main__.Item'>\n",
      "<class 'str'>\n",
      "<class 'int'>\n",
      "<class 'int'>\n"
     ]
    }
   ],
   "source": [
    "print(type(item1))\n",
    "print(type(item1.name))\n",
    "print(type(item1.price))\n",
    "print(type(item1.quantity))"
   ]
  },
  {
   "cell_type": "code",
   "execution_count": 22,
   "id": "d3b66127-11b7-4c83-80ae-60d981e68cdd",
   "metadata": {},
   "outputs": [],
   "source": [
    "item2 = Item()\n",
    "item2.name = \"Laptop\"\n",
    "item2.price = 1000\n",
    "item2.quantity = 3"
   ]
  },
  {
   "cell_type": "code",
   "execution_count": 23,
   "id": "f7c040ca-bdd6-44c4-914d-1a1d4ee76949",
   "metadata": {},
   "outputs": [
    {
     "name": "stdout",
     "output_type": "stream",
     "text": [
      "3000\n"
     ]
    }
   ],
   "source": [
    "print(item2.calculate_total_price(item2.price,item2.quantity))"
   ]
  },
  {
   "cell_type": "code",
   "execution_count": 67,
   "id": "9a203dab-c3cc-4057-956f-5cf21ca2d676",
   "metadata": {},
   "outputs": [],
   "source": [
    "class Item:\n",
    "    \n",
    "    def __init__(self,name: str,price: float,quantity=0):\n",
    "        #Run validations to the received arguments\n",
    "        assert price >= 0, f\"price {price} is not greater than or equal to zero\"\n",
    "        assert quantity >= 0,  f\"quantity {quantity} is not greater than or equal to zero\"\n",
    "        #Assign to self objects\n",
    "        self.name = name\n",
    "        self.price = price\n",
    "        self.quantity = quantity\n",
    "        \n",
    "    def calculate_total_price(self):\n",
    "        return self.price * self.quantity\n",
    "        "
   ]
  },
  {
   "cell_type": "code",
   "execution_count": 71,
   "id": "c53e2d07-00a8-43a8-ad23-b67aef02c113",
   "metadata": {},
   "outputs": [],
   "source": [
    "item3 = Item(\"Phone\",100,6)"
   ]
  },
  {
   "cell_type": "code",
   "execution_count": 61,
   "id": "249fc406-fd4b-4795-a78d-fad8fd6916ba",
   "metadata": {},
   "outputs": [
    {
     "name": "stdout",
     "output_type": "stream",
     "text": [
      "Phone\n",
      "100\n",
      "6\n"
     ]
    }
   ],
   "source": [
    "print(item3.name)\n",
    "print(item3.price)\n",
    "print(item3.quantity)"
   ]
  },
  {
   "cell_type": "code",
   "execution_count": 62,
   "id": "fc67448b-9e08-48f6-99c7-6598c87dbb9c",
   "metadata": {},
   "outputs": [
    {
     "name": "stdout",
     "output_type": "stream",
     "text": [
      "100100100100100100\n"
     ]
    }
   ],
   "source": [
    "print(item3.calculate_total_price())"
   ]
  },
  {
   "cell_type": "markdown",
   "id": "7c00e42c-c8b4-4f2d-9dcd-a56fffebbf4c",
   "metadata": {},
   "source": [
    "#### Class Attributes"
   ]
  },
  {
   "cell_type": "code",
   "execution_count": 92,
   "id": "2420d36d-f12a-433c-baaa-5278680f32c8",
   "metadata": {},
   "outputs": [],
   "source": [
    "class Item:\n",
    "    pay_rate = 0.8 # The pay rate after 20% discount\n",
    "    \n",
    "    def __init__(self,name: str,price: float,quantity=0):\n",
    "        #Run validations to the received arguments\n",
    "        assert price >= 0, f\"price {price} is not greater than or equal to zero\"\n",
    "        assert quantity >= 0,  f\"quantity {quantity} is not greater than or equal to zero\"\n",
    "        #Assign to self objects\n",
    "        self.name = name\n",
    "        self.price = price\n",
    "        self.quantity = quantity\n",
    "        \n",
    "    def calculate_total_price(self):\n",
    "        return self.price * self.quantity\n",
    "\n",
    "    def apply_discount(self):\n",
    "        self.price = self.price * self.pay_rate"
   ]
  },
  {
   "cell_type": "code",
   "execution_count": 73,
   "id": "dacb30e0-db07-4ff8-b7a4-cdaff880ee17",
   "metadata": {},
   "outputs": [
    {
     "name": "stdout",
     "output_type": "stream",
     "text": [
      "0.8\n"
     ]
    }
   ],
   "source": [
    "print(Item.pay_rate)"
   ]
  },
  {
   "cell_type": "code",
   "execution_count": 75,
   "id": "90d47278-b2c7-49d2-82d5-1ae59eb40550",
   "metadata": {},
   "outputs": [],
   "source": [
    "item4 = Item(\"Phone\",100,6)"
   ]
  },
  {
   "cell_type": "code",
   "execution_count": 76,
   "id": "533a62d3-25f8-45eb-9c7c-eb75f9059d6a",
   "metadata": {},
   "outputs": [
    {
     "name": "stdout",
     "output_type": "stream",
     "text": [
      "0.8\n"
     ]
    }
   ],
   "source": [
    "print(item4.pay_rate)"
   ]
  },
  {
   "cell_type": "code",
   "execution_count": 80,
   "id": "bcdcafe4-63e3-4a17-bb88-adeb540c14e1",
   "metadata": {},
   "outputs": [
    {
     "name": "stdout",
     "output_type": "stream",
     "text": [
      "{'__module__': '__main__', 'pay_rate': 0.8, '__init__': <function Item.__init__ at 0x71498e88c0e0>, 'calculate_total_price': <function Item.calculate_total_price at 0x71498e88f1a0>, '__dict__': <attribute '__dict__' of 'Item' objects>, '__weakref__': <attribute '__weakref__' of 'Item' objects>, '__doc__': None}\n"
     ]
    }
   ],
   "source": [
    "#To get all the attributes for class level\n",
    "print(Item.__dict__)"
   ]
  },
  {
   "cell_type": "code",
   "execution_count": 79,
   "id": "84dfe5fa-58b7-4c27-a7a0-b82eeb476148",
   "metadata": {},
   "outputs": [
    {
     "name": "stdout",
     "output_type": "stream",
     "text": [
      "{'name': 'Phone', 'price': 100, 'quantity': 6}\n"
     ]
    }
   ],
   "source": [
    "#To get all the attributes for Instance level\n",
    "print(item4.__dict__)"
   ]
  },
  {
   "cell_type": "code",
   "execution_count": 90,
   "id": "56ba6625-d562-4672-9b15-1e26f4882aa3",
   "metadata": {},
   "outputs": [],
   "source": [
    "item5 = Item(\"Phone\",100,6)"
   ]
  },
  {
   "cell_type": "code",
   "execution_count": 91,
   "id": "22c516d1-3078-415b-98a8-75407ee871c0",
   "metadata": {},
   "outputs": [
    {
     "data": {
      "text/plain": [
       "80.0"
      ]
     },
     "execution_count": 91,
     "metadata": {},
     "output_type": "execute_result"
    }
   ],
   "source": [
    "item5.apply_discount()\n",
    "item5.price"
   ]
  },
  {
   "cell_type": "code",
   "execution_count": 149,
   "id": "0941b9bd-5500-41fd-895d-ae492a469e98",
   "metadata": {},
   "outputs": [],
   "source": [
    "import pandas as pd\n",
    "import csv\n",
    "class Item:\n",
    "    pay_rate = 0.8 # The pay rate after 20% discount\n",
    "    all = []\n",
    "    def __init__(self,name: str,price: float,quantity=0):\n",
    "        #Run validations to the received arguments\n",
    "        assert price >= 0, f\"price {price} is not greater than or equal to zero\"\n",
    "        assert quantity >= 0,  f\"quantity {quantity} is not greater than or equal to zero\"\n",
    "        #Assign to self objects\n",
    "        self.name = name\n",
    "        self.price = price\n",
    "        self.quantity = quantity\n",
    "\n",
    "        #Execute actions\n",
    "        Item.all.append(self)\n",
    "    def __repr__(self):\n",
    "        return f\"Item('{self.name},{self.price},{self.quantity}')\"\n",
    "        #return f\"({self.name},{self.price},{self.quantity})\"\n",
    "        \n",
    "    def calculate_total_price(self):\n",
    "        return self.price * self.quantity\n",
    "\n",
    "    def apply_discount(self):\n",
    "        self.price = self.price * self.pay_rate\n",
    "\n",
    "    #class method - \n",
    "    @classmethod\n",
    "    def instantiate_from_csv(cls):\n",
    "        with open('items.csv','r') as f:\n",
    "            # reader = pd.read_csv(f)\n",
    "            reader = csv.DictReader(f)\n",
    "            items = list(reader)\n",
    "        for item in items:\n",
    "            Item(\n",
    "                name = item.get('name'),\n",
    "                price = float(item.get('price')),\n",
    "                quantity = int(item.get('quantity')),\n",
    "            )\n",
    "\n",
    "    @staticmethod\n",
    "    def is_integer(num):\n",
    "        # we will count out the float that are point zero\n",
    "        if isinstance(num,float):\n",
    "            # count out the floats that are point zero\n",
    "            return num.is_integer()\n",
    "        elif isinstance(num,int):\n",
    "            return True\n",
    "        else:\n",
    "            return False\n",
    "            \n",
    "        \n",
    "\n",
    "        "
   ]
  },
  {
   "cell_type": "code",
   "execution_count": 145,
   "id": "e1d99cb7-a203-4976-81a3-8e0c5b93cbe1",
   "metadata": {},
   "outputs": [],
   "source": [
    "item6 = Item(\"Laptop\",800,10)"
   ]
  },
  {
   "cell_type": "code",
   "execution_count": 146,
   "id": "6a584047-f775-48fb-b9b7-2abfc05bfb8f",
   "metadata": {},
   "outputs": [
    {
     "name": "stdout",
     "output_type": "stream",
     "text": [
      "[Item('Laptop,800,10')]\n"
     ]
    }
   ],
   "source": [
    "print(item6.all)"
   ]
  },
  {
   "cell_type": "code",
   "execution_count": 147,
   "id": "4c3c5c48-0b14-4db2-a56d-695a30e7ac6d",
   "metadata": {},
   "outputs": [],
   "source": [
    "Item.instantiate_from_csv()"
   ]
  },
  {
   "cell_type": "code",
   "execution_count": 148,
   "id": "7f3e2777-f898-4c64-9a44-a4365b276437",
   "metadata": {},
   "outputs": [
    {
     "name": "stdout",
     "output_type": "stream",
     "text": [
      "[Item('Laptop,800,10'), Item('Phone,100.0,1'), Item('Laptop,1000.0,3'), Item('Cable,10.0,5'), Item('Mouse,50.0,5'), Item('Keyboard,75.0,5')]\n"
     ]
    }
   ],
   "source": [
    "print(item6.all)"
   ]
  },
  {
   "cell_type": "code",
   "execution_count": 139,
   "id": "710a9191-4e75-4133-96a6-71f6ccbbbbb2",
   "metadata": {},
   "outputs": [
    {
     "data": {
      "text/html": [
       "<div>\n",
       "<style scoped>\n",
       "    .dataframe tbody tr th:only-of-type {\n",
       "        vertical-align: middle;\n",
       "    }\n",
       "\n",
       "    .dataframe tbody tr th {\n",
       "        vertical-align: top;\n",
       "    }\n",
       "\n",
       "    .dataframe thead th {\n",
       "        text-align: right;\n",
       "    }\n",
       "</style>\n",
       "<table border=\"1\" class=\"dataframe\">\n",
       "  <thead>\n",
       "    <tr style=\"text-align: right;\">\n",
       "      <th></th>\n",
       "      <th>name</th>\n",
       "      <th>price</th>\n",
       "      <th>quantity</th>\n",
       "    </tr>\n",
       "  </thead>\n",
       "  <tbody>\n",
       "    <tr>\n",
       "      <th>0</th>\n",
       "      <td>Phone</td>\n",
       "      <td>100</td>\n",
       "      <td>1</td>\n",
       "    </tr>\n",
       "    <tr>\n",
       "      <th>1</th>\n",
       "      <td>Laptop</td>\n",
       "      <td>1000</td>\n",
       "      <td>3</td>\n",
       "    </tr>\n",
       "    <tr>\n",
       "      <th>2</th>\n",
       "      <td>Cable</td>\n",
       "      <td>10</td>\n",
       "      <td>5</td>\n",
       "    </tr>\n",
       "    <tr>\n",
       "      <th>3</th>\n",
       "      <td>Mouse</td>\n",
       "      <td>50</td>\n",
       "      <td>5</td>\n",
       "    </tr>\n",
       "    <tr>\n",
       "      <th>4</th>\n",
       "      <td>Keyboard</td>\n",
       "      <td>75</td>\n",
       "      <td>5</td>\n",
       "    </tr>\n",
       "  </tbody>\n",
       "</table>\n",
       "</div>"
      ],
      "text/plain": [
       "       name  price  quantity\n",
       "0     Phone    100         1\n",
       "1    Laptop   1000         3\n",
       "2     Cable     10         5\n",
       "3     Mouse     50         5\n",
       "4  Keyboard     75         5"
      ]
     },
     "execution_count": 139,
     "metadata": {},
     "output_type": "execute_result"
    }
   ],
   "source": [
    "data = pd.read_csv('items.csv')\n",
    "data.head()"
   ]
  },
  {
   "cell_type": "code",
   "execution_count": 140,
   "id": "8d7a0c4b-0310-466e-aba9-dae1b3db0444",
   "metadata": {},
   "outputs": [
    {
     "name": "stdout",
     "output_type": "stream",
     "text": [
      "None\n"
     ]
    }
   ],
   "source": [
    "print(Item.instantiate_from_csv())"
   ]
  },
  {
   "cell_type": "code",
   "execution_count": 152,
   "id": "3e6effa5-6201-43c9-b184-502b09b07399",
   "metadata": {},
   "outputs": [
    {
     "name": "stdout",
     "output_type": "stream",
     "text": [
      "True\n"
     ]
    }
   ],
   "source": [
    "print(Item.is_integer(7.0))"
   ]
  },
  {
   "cell_type": "code",
   "execution_count": null,
   "id": "c316db18-45b5-4427-b8c7-823bc16a5f79",
   "metadata": {},
   "outputs": [],
   "source": []
  }
 ],
 "metadata": {
  "kernelspec": {
   "display_name": "Python 3 (ipykernel)",
   "language": "python",
   "name": "python3"
  },
  "language_info": {
   "codemirror_mode": {
    "name": "ipython",
    "version": 3
   },
   "file_extension": ".py",
   "mimetype": "text/x-python",
   "name": "python",
   "nbconvert_exporter": "python",
   "pygments_lexer": "ipython3",
   "version": "3.12.3"
  }
 },
 "nbformat": 4,
 "nbformat_minor": 5
}
