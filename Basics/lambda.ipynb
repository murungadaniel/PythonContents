{
 "cells": [
  {
   "cell_type": "code",
   "execution_count": 1,
   "id": "fbd0ad48-62d7-4cb4-aa17-661bdd1707fa",
   "metadata": {},
   "outputs": [],
   "source": [
    "def add(x,y):\n",
    "    return x+y"
   ]
  },
  {
   "cell_type": "code",
   "execution_count": 2,
   "id": "9a69dd1f-6d15-4cd9-ba79-e7a9389b960c",
   "metadata": {},
   "outputs": [
    {
     "name": "stdout",
     "output_type": "stream",
     "text": [
      "25\n"
     ]
    }
   ],
   "source": [
    "print(add(12,13))"
   ]
  },
  {
   "cell_type": "code",
   "execution_count": 4,
   "id": "fc150f60-328c-4838-a2af-158ea7bd4f85",
   "metadata": {},
   "outputs": [
    {
     "name": "stdout",
     "output_type": "stream",
     "text": [
      "25\n"
     ]
    }
   ],
   "source": [
    "sum_two = lambda x,y:x+y \n",
    "print(sum_two(12,13))"
   ]
  },
  {
   "cell_type": "code",
   "execution_count": null,
   "id": "cabc1705-e087-412a-94c3-49ee67184e29",
   "metadata": {},
   "outputs": [],
   "source": []
  }
 ],
 "metadata": {
  "kernelspec": {
   "display_name": "Python 3 (ipykernel)",
   "language": "python",
   "name": "python3"
  },
  "language_info": {
   "codemirror_mode": {
    "name": "ipython",
    "version": 3
   },
   "file_extension": ".py",
   "mimetype": "text/x-python",
   "name": "python",
   "nbconvert_exporter": "python",
   "pygments_lexer": "ipython3",
   "version": "3.12.3"
  }
 },
 "nbformat": 4,
 "nbformat_minor": 5
}
