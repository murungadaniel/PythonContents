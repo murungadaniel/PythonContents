{
 "cells": [
  {
   "cell_type": "code",
   "execution_count": 6,
   "id": "ef28726d-a323-4709-8607-0e81077e089b",
   "metadata": {},
   "outputs": [
    {
     "name": "stdout",
     "output_type": "stream",
     "text": [
      "Gns\n"
     ]
    }
   ],
   "source": [
    "character = \"Gen's\"\n",
    "print(character[0:5:2])"
   ]
  },
  {
   "cell_type": "code",
   "execution_count": 7,
   "id": "f426965c-63e2-4520-9766-e2e2e808a68c",
   "metadata": {},
   "outputs": [
    {
     "data": {
      "text/plain": [
       "'Daniel'"
      ]
     },
     "execution_count": 7,
     "metadata": {},
     "output_type": "execute_result"
    }
   ],
   "source": [
    "h = 'daniel'\n",
    "h.capitalize()"
   ]
  },
  {
   "cell_type": "code",
   "execution_count": 10,
   "id": "5b8f78f7-e2e3-49e6-a60d-24bb41ee4383",
   "metadata": {},
   "outputs": [
    {
     "data": {
      "text/plain": [
       "'murunga '"
      ]
     },
     "execution_count": 10,
     "metadata": {},
     "output_type": "execute_result"
    }
   ],
   "source": [
    "h=' murunga '\n",
    "h"
   ]
  },
  {
   "cell_type": "code",
   "execution_count": 12,
   "id": "be088f8b-131e-4e5e-878a-65d5198901e9",
   "metadata": {},
   "outputs": [
    {
     "data": {
      "text/plain": [
       "'murunga '"
      ]
     },
     "execution_count": 12,
     "metadata": {},
     "output_type": "execute_result"
    }
   ],
   "source": [
    "h.lstrip()"
   ]
  },
  {
   "cell_type": "code",
   "execution_count": 13,
   "id": "0e8beca3-4daa-44b8-8767-4d5001934ff0",
   "metadata": {},
   "outputs": [
    {
     "data": {
      "text/plain": [
       "'murunga'"
      ]
     },
     "execution_count": 13,
     "metadata": {},
     "output_type": "execute_result"
    }
   ],
   "source": [
    "h.rstrip()"
   ]
  },
  {
   "cell_type": "code",
   "execution_count": 20,
   "id": "988ac789-ee4a-4a05-97ae-b0095f1e931a",
   "metadata": {},
   "outputs": [
    {
     "data": {
      "text/plain": [
       "['Daniel,', 'Murunga']"
      ]
     },
     "execution_count": 20,
     "metadata": {},
     "output_type": "execute_result"
    }
   ],
   "source": [
    "name = 'Daniel, Murunga'\n",
    "name.split(' ')"
   ]
  },
  {
   "cell_type": "code",
   "execution_count": 27,
   "id": "3a9d0d0a-1d06-40a2-b44a-ee419b473109",
   "metadata": {},
   "outputs": [
    {
     "name": "stdout",
     "output_type": "stream",
     "text": [
      "Murunga\n"
     ]
    }
   ],
   "source": [
    "yes = \"Daniel\\rMurunga\"\n",
    "print(yes)"
   ]
  },
  {
   "cell_type": "code",
   "execution_count": null,
   "id": "dd8ad9f2-9aa3-4e95-ab5f-eaf555f1e7fc",
   "metadata": {},
   "outputs": [],
   "source": []
  }
 ],
 "metadata": {
  "kernelspec": {
   "display_name": "Python 3 (ipykernel)",
   "language": "python",
   "name": "python3"
  },
  "language_info": {
   "codemirror_mode": {
    "name": "ipython",
    "version": 3
   },
   "file_extension": ".py",
   "mimetype": "text/x-python",
   "name": "python",
   "nbconvert_exporter": "python",
   "pygments_lexer": "ipython3",
   "version": "3.12.3"
  }
 },
 "nbformat": 4,
 "nbformat_minor": 5
}
